{
  "nbformat": 4,
  "nbformat_minor": 0,
  "metadata": {
    "colab": {
      "name": "ALY6020_HomeWork_3.ipynb",
      "provenance": []
    },
    "kernelspec": {
      "name": "python3",
      "display_name": "Python 3"
    }
  },
  "cells": [
    {
      "cell_type": "code",
      "metadata": {
        "id": "4G1iQTe4lGy-"
      },
      "source": [
        "# importing libraries\n",
        "import pandas as pd\n",
        "import numpy as np\n",
        "from scipy.io import arff \n",
        "from sklearn.ensemble import RandomForestClassifier\n",
        "from sklearn.metrics import accuracy_score\n",
        "import pandas_profiling"
      ],
      "execution_count": 27,
      "outputs": []
    },
    {
      "cell_type": "code",
      "metadata": {
        "id": "ROPMi-qnfXhQ"
      },
      "source": [
        "#importing the training dataset\n",
        "data= arff.loadarff('FruitFlies_TRAIN.arff')\n",
        "loaddata=pd.DataFrame(data[0])\n",
        "loaddata[\"target\"] = pd.factorize(loaddata.target)[0]\n",
        "#importing the test dataset\n",
        "data1= arff.loadarff('FruitFlies_TEST.arff')\n",
        "loaddata1=pd.DataFrame(data1[0])\n",
        "loaddata1[\"target\"] = pd.factorize(loaddata1.target)[0]"
      ],
      "execution_count": 44,
      "outputs": []
    },
    {
      "cell_type": "code",
      "metadata": {
        "id": "Dsp-bLK6BJ82"
      },
      "source": [
        "# split data into input and taget variable(s)\n",
        "X_train = loaddata.drop(\"target\", axis=1)\n",
        "Y_train = loaddata[\"target\"]\n",
        "X_test = loaddata1.drop(\"target\", axis=1)\n",
        "Y_test= loaddata1[\"target\"]"
      ],
      "execution_count": 45,
      "outputs": []
    },
    {
      "cell_type": "code",
      "metadata": {
        "colab": {
          "base_uri": "https://localhost:8080/"
        },
        "id": "4cJ7G0mBiDwL",
        "outputId": "693b098c-7cd2-4424-c943-7d524bfe7fe9"
      },
      "source": [
        "Y_test"
      ],
      "execution_count": 46,
      "outputs": [
        {
          "output_type": "execute_result",
          "data": {
            "text/plain": [
              "0        0\n",
              "1        0\n",
              "2        0\n",
              "3        0\n",
              "4        0\n",
              "        ..\n",
              "17254    2\n",
              "17255    2\n",
              "17256    2\n",
              "17257    2\n",
              "17258    2\n",
              "Name: target, Length: 17259, dtype: int64"
            ]
          },
          "metadata": {
            "tags": []
          },
          "execution_count": 46
        }
      ]
    },
    {
      "cell_type": "code",
      "metadata": {
        "colab": {
          "base_uri": "https://localhost:8080/"
        },
        "id": "xb3VDcuFX_-V",
        "outputId": "957328c6-a5b0-44e0-eb33-f0875f94f4e5"
      },
      "source": [
        "#Creating the classifier\n",
        "classifier_5 = RandomForestClassifier(n_estimators = 5)\n",
        "\n",
        "# Train the model using the training sets\n",
        "classifier_5.fit(X_train, Y_train)\n",
        "\n",
        "# Prediction on the test dataset\n",
        "Pred_Y_5 = classifier_5.predict(X_test)\n",
        "\n",
        "## Calculating the accuracy of the model\n",
        "print(\"Accuracy:\", accuracy_score(Y_test, Pred_Y_5))"
      ],
      "execution_count": 47,
      "outputs": [
        {
          "output_type": "stream",
          "text": [
            "Accuracy: 0.7541572512891824\n"
          ],
          "name": "stdout"
        }
      ]
    },
    {
      "cell_type": "code",
      "metadata": {
        "colab": {
          "base_uri": "https://localhost:8080/"
        },
        "id": "PGYPfckN__V1",
        "outputId": "d24a0c68-3232-4c9b-a199-9dd3ecb26458"
      },
      "source": [
        " #Creating the classifier\n",
        "classifier_50 = RandomForestClassifier(n_estimators = 50)\n",
        "\n",
        "# Train the model using the training sets\n",
        "classifier_50.fit(X_train, Y_train)\n",
        "\n",
        "# Prediction on the test dataset\n",
        "Pred_Y_50 = classifier_50.predict(X_test)\n",
        "\n",
        "## Calculating the accuracy of the model\n",
        "print(\"Accuracy:\", accuracy_score(Y_test, Pred_Y_50))"
      ],
      "execution_count": 48,
      "outputs": [
        {
          "output_type": "stream",
          "text": [
            "Accuracy: 0.8185874036734457\n"
          ],
          "name": "stdout"
        }
      ]
    },
    {
      "cell_type": "code",
      "metadata": {
        "colab": {
          "base_uri": "https://localhost:8080/"
        },
        "id": "55ClPuV79jqE",
        "outputId": "133bd436-9f28-4364-b797-4bfb6c314e91"
      },
      "source": [
        "#Creating the classifier\n",
        "classifier_500 = RandomForestClassifier(n_estimators = 500)\n",
        "\n",
        "# Train the model using the training sets\n",
        "classifier_500.fit(X_train, Y_train)\n",
        "\n",
        "# Prediction on the test dataset\n",
        "Pred_Y_500 = classifier_500.predict(X_test)\n",
        "\n",
        "## Calculating the accuracy of the model\n",
        "print(\"Accuracy:\", accuracy_score(Y_test, Pred_Y_500))"
      ],
      "execution_count": 49,
      "outputs": [
        {
          "output_type": "stream",
          "text": [
            "Accuracy: 0.8253664754620778\n"
          ],
          "name": "stdout"
        }
      ]
    },
    {
      "cell_type": "code",
      "metadata": {
        "id": "07sGgIdvmEye"
      },
      "source": [
        ""
      ],
      "execution_count": 49,
      "outputs": []
    }
  ]
}